{
  "nbformat": 4,
  "nbformat_minor": 0,
  "metadata": {
    "colab": {
      "provenance": []
    },
    "kernelspec": {
      "name": "python3",
      "display_name": "Python 3"
    },
    "language_info": {
      "name": "python"
    }
  },
  "cells": [
    {
      "cell_type": "code",
      "execution_count": null,
      "metadata": {
        "id": "5Rs8SyKv9J0C"
      },
      "outputs": [],
      "source": []
    },
    {
      "cell_type": "markdown",
      "source": [
        "# Step 1: Import Necessary Libraries"
      ],
      "metadata": {
        "id": "VJspPXfRByXO"
      }
    },
    {
      "cell_type": "code",
      "source": [
        "import random\n",
        "from collections import defaultdict\n"
      ],
      "metadata": {
        "id": "YGY_Qq5oBSHb"
      },
      "execution_count": 1,
      "outputs": []
    },
    {
      "cell_type": "code",
      "source": [],
      "metadata": {
        "id": "c69iMvT7BSE0"
      },
      "execution_count": null,
      "outputs": []
    },
    {
      "cell_type": "markdown",
      "source": [
        "# Step 2: Preprocess the Text"
      ],
      "metadata": {
        "id": "emA5vLS4B0oG"
      }
    },
    {
      "cell_type": "code",
      "source": [
        "def preprocess_text(text):\n",
        "    # Split the text into words\n",
        "    words = text.split()\n",
        "    return words\n"
      ],
      "metadata": {
        "id": "Z0CosaqmBSCM"
      },
      "execution_count": 2,
      "outputs": []
    },
    {
      "cell_type": "code",
      "source": [],
      "metadata": {
        "id": "xvKaohA0BR88"
      },
      "execution_count": null,
      "outputs": []
    },
    {
      "cell_type": "markdown",
      "source": [
        "# Step 3: Build the Markov Chain"
      ],
      "metadata": {
        "id": "AIsr7WBKB3de"
      }
    },
    {
      "cell_type": "code",
      "source": [
        "def build_markov_chain(words):\n",
        "    # Dictionary to store the Markov chain\n",
        "    markov_chain = defaultdict(list)\n",
        "\n",
        "    # Populate the Markov chain with pairs of consecutive words\n",
        "    for current_word, next_word in zip(words[:-1], words[1:]):\n",
        "        markov_chain[current_word].append(next_word)\n",
        "\n",
        "    return markov_chain\n"
      ],
      "metadata": {
        "id": "AkIsLL-rBR6M"
      },
      "execution_count": 3,
      "outputs": []
    },
    {
      "cell_type": "code",
      "source": [],
      "metadata": {
        "id": "xCx1RGbjBR3k"
      },
      "execution_count": null,
      "outputs": []
    },
    {
      "cell_type": "markdown",
      "source": [
        "# Step 4: Generate Text Using the Markov Chain"
      ],
      "metadata": {
        "id": "DopzuVQ6B7hV"
      }
    },
    {
      "cell_type": "code",
      "source": [
        "def generate_text(markov_chain, length=50):\n",
        "    # Choose a random starting word\n",
        "    current_word = random.choice(list(markov_chain.keys()))\n",
        "    result = [current_word]\n",
        "\n",
        "    # Generate the text\n",
        "    for _ in range(length - 1):\n",
        "        next_words = markov_chain.get(current_word, [])\n",
        "        if not next_words:\n",
        "            break\n",
        "        current_word = random.choice(next_words)\n",
        "        result.append(current_word)\n",
        "\n",
        "    return ' '.join(result)\n"
      ],
      "metadata": {
        "id": "W9c2bNTQBR08"
      },
      "execution_count": 4,
      "outputs": []
    },
    {
      "cell_type": "code",
      "source": [],
      "metadata": {
        "id": "yZIiQHQfBRyU"
      },
      "execution_count": null,
      "outputs": []
    },
    {
      "cell_type": "markdown",
      "source": [
        "# Step 5: Putting It All Together"
      ],
      "metadata": {
        "id": "WOFukSFCB_UU"
      }
    },
    {
      "cell_type": "code",
      "source": [
        "def main():\n",
        "    # Example text for building the Markov chain\n",
        "    text = \"\"\"\n",
        "    The sun sets over the city as the neon lights flicker on, casting a glow over the futuristic skyline.\n",
        "    In this place, technology and nature coexist, blending seamlessly into a new world.\n",
        "    \"\"\"\n",
        "\n",
        "    # Preprocess the text\n",
        "    words = preprocess_text(text)\n",
        "\n",
        "    # Build the Markov chain\n",
        "    markov_chain = build_markov_chain(words)\n",
        "\n",
        "    # Generate random text\n",
        "    generated_text = generate_text(markov_chain, length=30)\n",
        "    print(\"Generated Text:\\n\", generated_text)\n",
        "\n",
        "if __name__ == \"__main__\":\n",
        "    main()\n"
      ],
      "metadata": {
        "colab": {
          "base_uri": "https://localhost:8080/"
        },
        "id": "nbeWQxJ3BRvr",
        "outputId": "62f6d9c8-8971-4881-f6d4-08f7d6c83f2f"
      },
      "execution_count": 12,
      "outputs": [
        {
          "output_type": "stream",
          "name": "stdout",
          "text": [
            "Generated Text:\n",
            " a glow over the futuristic skyline. In this place, technology and nature coexist, blending seamlessly into a new world.\n"
          ]
        }
      ]
    },
    {
      "cell_type": "code",
      "source": [],
      "metadata": {
        "id": "iW2hisENBRtG"
      },
      "execution_count": null,
      "outputs": []
    }
  ]
}